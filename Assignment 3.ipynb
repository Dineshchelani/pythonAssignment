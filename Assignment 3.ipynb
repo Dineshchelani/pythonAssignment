{
 "cells": [
  {
   "cell_type": "code",
   "execution_count": 1,
   "id": "0983a5d7",
   "metadata": {},
   "outputs": [
    {
     "name": "stdout",
     "output_type": "stream",
     "text": [
      "Twinkle, twinkle, little star, \n",
      "\tHow I wonder what you are! \n",
      "\t\tUp above the world so high, \n",
      "\t\tLike a diamond in the sky. \n",
      "Twinkle, twinkle, little star, \n",
      "\tHow I wonder what you are!\n"
     ]
    }
   ],
   "source": [
    "#Q1\n",
    "print(\"Twinkle, twinkle, little star, \\n\\tHow I wonder what you are! \\n\\t\\tUp above the world so high, \\n\\t\\tLike a diamond in the sky. \\nTwinkle, twinkle, little star, \\n\\tHow I wonder what you are!\");"
   ]
  },
  {
   "cell_type": "code",
   "execution_count": 2,
   "id": "bfc66fcc",
   "metadata": {},
   "outputs": [
    {
     "name": "stdout",
     "output_type": "stream",
     "text": [
      "Python version I'm using is :  3.8.8\n"
     ]
    }
   ],
   "source": [
    "#Q2\n",
    "import platform;\n",
    "print(\"Python version I'm using is : \",platform.python_version());"
   ]
  },
  {
   "cell_type": "code",
   "execution_count": 3,
   "id": "f082d375",
   "metadata": {},
   "outputs": [
    {
     "name": "stdout",
     "output_type": "stream",
     "text": [
      "Current date and time : \n",
      "2021-10-24 19:50:44\n"
     ]
    }
   ],
   "source": [
    "#Q3\n",
    "import datetime;\n",
    "now = datetime.datetime.now();\n",
    "print (\"Current date and time : \");\n",
    "print (now.strftime(\"%Y-%m-%d %H:%M:%S\"));"
   ]
  },
  {
   "cell_type": "code",
   "execution_count": 1,
   "id": "8339ceed",
   "metadata": {},
   "outputs": [
    {
     "name": "stdout",
     "output_type": "stream",
     "text": [
      "Enter the radius of the circle : 5\n",
      "The area of the circle with radius 5.0 is: 78.53981633974483\n"
     ]
    }
   ],
   "source": [
    "#Q4\n",
    "from math import pi\n",
    "radius = float(input (\"Enter the radius of the circle : \"))\n",
    "print (\"The area of the circle with radius \" + str(radius) + \" is: \" + str(pi * radius**2))\n"
   ]
  },
  {
   "cell_type": "code",
   "execution_count": 2,
   "id": "c4a7a818",
   "metadata": {},
   "outputs": [
    {
     "name": "stdout",
     "output_type": "stream",
     "text": [
      "Enter your First Name : Dinesh\n",
      "Enter your Last Name : Kumar\n",
      "Kumar Dinesh\n"
     ]
    }
   ],
   "source": [
    "#Q5\n",
    "firstName = input(\"Enter your First Name : \");\n",
    "lastName = input(\"Enter your Last Name : \");\n",
    "print (lastName + \" \" + firstName);"
   ]
  },
  {
   "cell_type": "code",
   "execution_count": 3,
   "id": "30fadab2",
   "metadata": {},
   "outputs": [
    {
     "name": "stdout",
     "output_type": "stream",
     "text": [
      "Enter 1st number : 8\n",
      "Enter 2nd number : 7\n",
      "8 + 7  =  15\n"
     ]
    }
   ],
   "source": [
    "#Q6\n",
    "num1 = int(input(\"Enter 1st number : \"));\n",
    "num2 = int(input(\"Enter 2nd number : \"));\n",
    "print (num1,\"+\",num2,\" = \",num1+num2);"
   ]
  },
  {
   "cell_type": "code",
   "execution_count": 4,
   "id": "baf6f7f5",
   "metadata": {},
   "outputs": [
    {
     "name": "stdout",
     "output_type": "stream",
     "text": [
      "Enter a number : 7\n",
      "7  is an odd number\n"
     ]
    }
   ],
   "source": [
    "#Q8\n",
    "number = int(input(\"Enter a number : \"));\n",
    "if number%2 == 0:\n",
    "  print(number ,\" is an even number\");\n",
    "else:\n",
    "  print(number ,\" is an odd number\");"
   ]
  },
  {
   "cell_type": "code",
   "execution_count": 5,
   "id": "13ee60ec",
   "metadata": {},
   "outputs": [
    {
     "name": "stdout",
     "output_type": "stream",
     "text": [
      "Length of the list is =  4\n"
     ]
    }
   ],
   "source": [
    "#Q9\n",
    "list = [\"a\",\"b\",\"c\",\"d\"];\n",
    "print (\"Length of the list is = \", len(list))\n"
   ]
  },
  {
   "cell_type": "code",
   "execution_count": 6,
   "id": "36a03386",
   "metadata": {},
   "outputs": [
    {
     "name": "stdout",
     "output_type": "stream",
     "text": [
      "1\n",
      "1\n",
      "2\n",
      "3\n"
     ]
    }
   ],
   "source": [
    "#Q12\n",
    "a = [1, 1, 2, 3, 5, 8, 13, 21, 34, 55, 89]\n",
    "\n",
    "for i in a:\n",
    "\n",
    "    if i < 5:\n",
    "\n",
    "        print(i)"
   ]
  },
  {
   "cell_type": "code",
   "execution_count": 9,
   "id": "12250c05",
   "metadata": {},
   "outputs": [
    {
     "name": "stdout",
     "output_type": "stream",
     "text": [
      "25\n",
      "35\n"
     ]
    }
   ],
   "source": [
    "#Q10\n",
    "numbers = [1,2,3,4,5,1,4,5] \n",
    "  \n",
    "Sum = sum(numbers) \n",
    "print(Sum) # result is 25  \n",
    "Sum = sum(numbers, 10) \n",
    "print(Sum)"
   ]
  },
  {
   "cell_type": "code",
   "execution_count": 10,
   "id": "d7cb4461",
   "metadata": {},
   "outputs": [
    {
     "name": "stdout",
     "output_type": "stream",
     "text": [
      "Largest element is: 95\n"
     ]
    }
   ],
   "source": [
    "#Q11\n",
    "# list of numbers\n",
    "list1 = [10, 20, 43, 25, 95]\n",
    "  \n",
    "# sorting the list\n",
    "list1.sort()\n",
    "  \n",
    "# printing the last element\n",
    "print(\"Largest element is:\", list1[-1])"
   ]
  },
  {
   "cell_type": "code",
   "execution_count": 13,
   "id": "587bec6b",
   "metadata": {},
   "outputs": [
    {
     "name": "stdout",
     "output_type": "stream",
     "text": [
      "Enter marks of the first subject: 88\n",
      "Enter marks of the second subject: 99\n",
      "Enter marks of the third subject: 85\n",
      "Enter marks of the fourth subject: 96\n",
      "Enter marks of the fifth subject: 70\n",
      "Grade: A\n"
     ]
    }
   ],
   "source": [
    "#Q7\n",
    "sub1=int(input(\"Enter marks of the first subject: \"))\n",
    "sub2=int(input(\"Enter marks of the second subject: \"))\n",
    "sub3=int(input(\"Enter marks of the third subject: \"))\n",
    "sub4=int(input(\"Enter marks of the fourth subject: \"))\n",
    "sub5=int(input(\"Enter marks of the fifth subject: \"))\n",
    "avg=(sub1+sub2+sub3+sub4+sub4)/5\n",
    "if(avg>=90):\n",
    "    print(\"Grade: A\")\n",
    "elif(avg>=80 and avg<90):\n",
    "    print(\"Grade: B\")\n",
    "elif(avg>=70 and avg<80):\n",
    "    print(\"Grade: C\")\n",
    "elif(avg>=60and avg<70):\n",
    "    print(\"Grade: D\")\n",
    "else:\n",
    "    print(\"Grade: F\")"
   ]
  },
  {
   "cell_type": "code",
   "execution_count": null,
   "id": "5544f377",
   "metadata": {},
   "outputs": [],
   "source": []
  },
  {
   "cell_type": "code",
   "execution_count": null,
   "id": "856534ba",
   "metadata": {},
   "outputs": [],
   "source": []
  }
 ],
 "metadata": {
  "kernelspec": {
   "display_name": "Python 3",
   "language": "python",
   "name": "python3"
  },
  "language_info": {
   "codemirror_mode": {
    "name": "ipython",
    "version": 3
   },
   "file_extension": ".py",
   "mimetype": "text/x-python",
   "name": "python",
   "nbconvert_exporter": "python",
   "pygments_lexer": "ipython3",
   "version": "3.8.8"
  }
 },
 "nbformat": 4,
 "nbformat_minor": 5
}
