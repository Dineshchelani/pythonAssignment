{
 "cells": [
  {
   "cell_type": "code",
   "execution_count": 1,
   "id": "1fe96985",
   "metadata": {},
   "outputs": [
    {
     "name": "stdout",
     "output_type": "stream",
     "text": [
      "Twinkle, twinkle, little star, \n",
      "\tHow I wonder what you are! \n",
      "\t\tUp above the world so high, \n",
      "\t\tLike a diamond in the sky. \n",
      "Twinkle, twinkle, little star, \n",
      "\tHow I wonder what you are!\n"
     ]
    }
   ],
   "source": [
    "#Q1\n",
    "print(\"Twinkle, twinkle, little star, \\n\\tHow I wonder what you are! \\n\\t\\tUp above the world so high, \\n\\t\\tLike a diamond in the sky. \\nTwinkle, twinkle, little star, \\n\\tHow I wonder what you are!\");"
   ]
  },
  {
   "cell_type": "code",
   "execution_count": 2,
   "id": "9a7b5e85",
   "metadata": {},
   "outputs": [
    {
     "name": "stdout",
     "output_type": "stream",
     "text": [
      "Python version I'm using is :  3.8.8\n"
     ]
    }
   ],
   "source": [
    "#Q2\n",
    "import platform;\n",
    "print(\"Python version I'm using is : \",platform.python_version());"
   ]
  },
  {
   "cell_type": "code",
   "execution_count": 1,
   "id": "7de76091",
   "metadata": {},
   "outputs": [
    {
     "name": "stdout",
     "output_type": "stream",
     "text": [
      "Current date and time :  2021-12-30 18:27:09.869871\n",
      "2021-12-30 18:27:09\n"
     ]
    }
   ],
   "source": [
    "#Q3\n",
    "import datetime;\n",
    "now = datetime.datetime.now();\n",
    "print (\"Current date and time : \");\n",
    "print (now.strftime(\"%Y-%m-%d %H:%M:%S\"));"
   ]
  },
  {
   "cell_type": "code",
   "execution_count": 4,
   "id": "4b96382e",
   "metadata": {},
   "outputs": [
    {
     "name": "stdout",
     "output_type": "stream",
     "text": [
      "Enter the radius of the circle : 5\n",
      "The area of the circle with radius 5.0 is: 78.53981633974483\n"
     ]
    }
   ],
   "source": [
    "#Q4\n",
    "from math import pi\n",
    "radius = float(input (\"Enter the radius of the circle : \"))\n",
    "print (\"The area of the circle with radius \" + str(radius) + \" is: \" + str(pi * radius**2))"
   ]
  },
  {
   "cell_type": "code",
   "execution_count": 6,
   "id": "81261108",
   "metadata": {},
   "outputs": [
    {
     "name": "stdout",
     "output_type": "stream",
     "text": [
      "Enter first name: Dinesh\n",
      "Enter your last name: Kumar\n",
      "Kumar Dinesh\n"
     ]
    }
   ],
   "source": [
    "#Q5\n",
    "firstName = input(\"Enter first name: \")\n",
    "lastName = input(\"Enter your last name: \")\n",
    "print(lastName + \" \" + firstName)"
   ]
  },
  {
   "cell_type": "code",
   "execution_count": 10,
   "id": "fdb715fa",
   "metadata": {},
   "outputs": [
    {
     "name": "stdout",
     "output_type": "stream",
     "text": [
      "Enter 1st number: 5\n",
      "Enter 2nd number: 6\n",
      "Addition = 11\n"
     ]
    }
   ],
   "source": [
    "#Q6\n",
    "num1 = int(input(\"Enter 1st number: \"));\n",
    "num2 = int(input(\"Enter 2nd number: \"));\n",
    "print(\"Addition = \"+ str(num1+num2))"
   ]
  },
  {
   "cell_type": "code",
   "execution_count": null,
   "id": "596570ef",
   "metadata": {},
   "outputs": [],
   "source": []
  }
 ],
 "metadata": {
  "kernelspec": {
   "display_name": "Python 3",
   "language": "python",
   "name": "python3"
  },
  "language_info": {
   "codemirror_mode": {
    "name": "ipython",
    "version": 3
   },
   "file_extension": ".py",
   "mimetype": "text/x-python",
   "name": "python",
   "nbconvert_exporter": "python",
   "pygments_lexer": "ipython3",
   "version": "3.8.8"
  }
 },
 "nbformat": 4,
 "nbformat_minor": 5
}
