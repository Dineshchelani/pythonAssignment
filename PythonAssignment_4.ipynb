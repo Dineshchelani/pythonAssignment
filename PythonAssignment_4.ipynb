{
 "cells": [
  {
   "cell_type": "code",
   "execution_count": 1,
   "id": "bc072df2",
   "metadata": {},
   "outputs": [
    {
     "name": "stdout",
     "output_type": "stream",
     "text": [
      "1 for Addition\n",
      "2 for Subteraction\n",
      "3 for Multiplication\n",
      "4 for Divission\n",
      "Enter the number for the operation you want to perform :3\n",
      "=== Multiplication ===\n",
      "Enter the first number :2\n",
      "Enter the second number :5\n",
      "2 * 5 is = 10\n"
     ]
    }
   ],
   "source": [
    "# Q1 Make a calculator using Python with addition , subtraction ,multiplication ,division and power.\n",
    "def addition():\n",
    "    print(\"=== Addition ===\")\n",
    "    num1=int(input(\"Enter the first number :\"))\n",
    "    num2=int(input(\"Enter the second number :\"))  \n",
    "    sum =num1+num2\n",
    "    print(\"The sum of \"+str(num1)+\" and \"+str(num2)+\" is = \"+str(sum))\n",
    "def subtraction():\n",
    "    print(\"=== Subtraction ===\")\n",
    "    num1=int(input(\"Enter the first number :\"))\n",
    "    num2=int(input(\"Enter the second number :\"))  \n",
    "    subtract =num1-num2\n",
    "    print(str(num1)+\" - \"+str(num2)+\" is = \"+str(subtract))     \n",
    "def multiplication():\n",
    "    print(\"=== Multiplication ===\")\n",
    "    num1=int(input(\"Enter the first number :\"))\n",
    "    num2=int(input(\"Enter the second number :\"))  \n",
    "    multiply =num1*num2\n",
    "    print(str(num1)+\" * \"+str(num2)+\" is = \"+str(multiply))\n",
    "def divission():\n",
    "    print(\"=== divission ===\")\n",
    "    num1=int(input(\"Enter the first number :\"))\n",
    "    num2=int(input(\"Enter the second number :\"))  \n",
    "    divide =num1/num2\n",
    "    print(str(num1)+\" / \"+str(num2)+\" is = \"+str(divide))\n",
    "print(\"1 for Addition\")\n",
    "print(\"2 for Subteraction\")\n",
    "print(\"3 for Multiplication\")\n",
    "print(\"4 for Divission\")\n",
    "N=int(input(\"Enter the number for the operation you want to perform :\"))    \n",
    "if N==1:\n",
    "  addition()\n",
    "elif N==2:\n",
    "   subtraction()\n",
    "elif N==3:\n",
    "   multiplication() \n",
    "elif N==4: \n",
    "   divission()\n",
    "else:\n",
    "   print(\"you entered a wrong number\")\n"
   ]
  },
  {
   "cell_type": "code",
   "execution_count": 1,
   "id": "7a5f1bbf",
   "metadata": {
    "scrolled": true
   },
   "outputs": [
    {
     "name": "stdout",
     "output_type": "stream",
     "text": [
      "== There is a numaric value  3  in the list ==\n",
      "== There is a numaric value  7  in the list ==\n",
      "There are total  2  numaric values in the list\n"
     ]
    }
   ],
   "source": [
    "# Q2 Write a program to check if there is any numeric value in list using for loop.\n",
    "num = ['a','4',3,'a',7];\n",
    "count = 0;\n",
    "for i in range(len(num)):\n",
    "    if type(num[i]) == int:\n",
    "        count+=1;\n",
    "        print(\"== There is a numaric value \", num[i],\" in the list ==\");\n",
    "print(\"There are total \",count,\" numaric values in the list\")\n"
   ]
  },
  {
   "cell_type": "code",
   "execution_count": 1,
   "id": "c4df586f",
   "metadata": {},
   "outputs": [
    {
     "name": "stdout",
     "output_type": "stream",
     "text": [
      "{'name': 'Dinesh kumar', 'roll_no': 'BSCS-2020-095', 'section': '4B', 'age': 20}\n"
     ]
    }
   ],
   "source": [
    "# Q3 Write a Python script to add a key to a dictionary.\n",
    "students = {\n",
    "\"name\": \"Dinesh kumar\",\n",
    "\"roll_no\": \"BSCS-2020-095\",\n",
    "\"section\": \"4B\"\n",
    "}\n",
    "students[\"age\"] = 20;\n",
    "print(students);"
   ]
  },
  {
   "cell_type": "code",
   "execution_count": 3,
   "id": "9ac0aeec",
   "metadata": {},
   "outputs": [
    {
     "name": "stdout",
     "output_type": "stream",
     "text": [
      "Sum of all numaric items :  760\n"
     ]
    }
   ],
   "source": [
    "# Q4 Write a Python program to sum all the numeric items in a dictionary.\n",
    "cart = {\n",
    "    \"cName\": \"Dinesh kumar\",\n",
    "    \"cId\": \"095\",\n",
    "    \"product1\": 200,\n",
    "    \"product2\": 500,\n",
    "    \"product3\": 60,\n",
    "}\n",
    "sum = 0;\n",
    "for x in cart:\n",
    "    if type(cart[x]) == int:\n",
    "        sum += cart[x]\n",
    "print(\"Sum of all numaric items : \",sum);"
   ]
  },
  {
   "cell_type": "code",
   "execution_count": 12,
   "id": "9221253d",
   "metadata": {},
   "outputs": [
    {
     "name": "stdout",
     "output_type": "stream",
     "text": [
      "==  a  is a duplicate value ==\n",
      "==  3  is a duplicate value ==\n",
      "There are total  2  numaric values in the list\n"
     ]
    }
   ],
   "source": [
    "# Q5 Write a program to identify duplicate values from list.\n",
    "num = ['a','4',3,'a',3];\n",
    "count = 0;\n",
    "x = 0;\n",
    "for i in range(len(num)):\n",
    "    for j in range(x,len(num)):\n",
    "        if i != j and num[j] == num[i]:\n",
    "            count+=1;\n",
    "            print(\"== \", num[j],\" is a duplicate value ==\");  \n",
    "    x+=1;\n",
    "print(\"There are total \",count,\" duplicate values in the list\")\n",
    "\n",
    "\n"
   ]
  },
  {
   "cell_type": "code",
   "execution_count": 13,
   "id": "6429904d",
   "metadata": {},
   "outputs": [
    {
     "name": "stdout",
     "output_type": "stream",
     "text": [
      "Key is present in the dictionary\n",
      "Key is not present in the dictionary\n"
     ]
    }
   ],
   "source": [
    "# Q6 Write a Python script to check if a given key already exists in a dictionary\n",
    "d = {1: 10, 2: 20, 3: 30, 4: 40, 5: 50, 6: 60}\n",
    "def is_key_present(x):\n",
    "  if x in d:\n",
    "      print('Key is present in the dictionary')\n",
    "  else:\n",
    "      print('Key is not present in the dictionary')\n",
    "is_key_present(6)\n",
    "is_key_present(2)\n"
   ]
  },
  {
   "cell_type": "code",
   "execution_count": null,
   "id": "08be77ed",
   "metadata": {},
   "outputs": [],
   "source": []
  }
 ],
 "metadata": {
  "kernelspec": {
   "display_name": "Python 3",
   "language": "python",
   "name": "python3"
  },
  "language_info": {
   "codemirror_mode": {
    "name": "ipython",
    "version": 3
   },
   "file_extension": ".py",
   "mimetype": "text/x-python",
   "name": "python",
   "nbconvert_exporter": "python",
   "pygments_lexer": "ipython3",
   "version": "3.8.8"
  }
 },
 "nbformat": 4,
 "nbformat_minor": 5
}
